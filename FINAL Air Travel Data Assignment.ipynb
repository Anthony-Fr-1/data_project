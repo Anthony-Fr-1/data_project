{
 "cells": [
  {
   "cell_type": "markdown",
   "source": [
    "# 1. Imports"
   ],
   "metadata": {}
  },
  {
   "cell_type": "markdown",
   "source": [
    "`imports`, you've seen this before!"
   ],
   "metadata": {
    "slideshow": {
     "slide_type": "slide"
    }
   }
  },
  {
   "cell_type": "code",
   "execution_count": 71,
   "source": [
    "import matplotlib\r\n",
    "import matplotlib.pyplot as plt\r\n",
    "import numpy as np\r\n",
    "import pandas as pd\r\n",
    "import os\r\n",
    "from datetime import datetime\r\n",
    "import geopy\r\n",
    "from geopy.geocoders import Nominatim\r\n",
    "import seaborn as sns\r\n",
    "import geopandas as gpd\r\n",
    "from shapely.geometry import Point, Polygon"
   ],
   "outputs": [],
   "metadata": {
    "slideshow": {
     "slide_type": "-"
    }
   }
  },
  {
   "cell_type": "markdown",
   "source": [
    "Some magic that tells jupyter to put graphs and things in the notebook instead of the default behaviour which is to save it as a file."
   ],
   "metadata": {
    "slideshow": {
     "slide_type": "fragment"
    }
   }
  },
  {
   "cell_type": "code",
   "execution_count": 63,
   "source": [
    "%matplotlib inline"
   ],
   "outputs": [],
   "metadata": {
    "slideshow": {
     "slide_type": "-"
    }
   }
  },
  {
   "cell_type": "markdown",
   "source": [
    "# 2. Read in the csv file"
   ],
   "metadata": {}
  },
  {
   "cell_type": "code",
   "execution_count": null,
   "source": [
    "if os.path.isfile(\"international_air_traffic_data_set.csv\"):\r\n",
    "    filepath = \"international_air_traffic_data_set.csv\"\r\n",
    "    print(\"loading from file\")\r\n",
    "else:\r\n",
    "    filepath = \"https://data.gov.au/data/dataset/d9fbffaa-836f-4f52-80e8-324249ff269f/resource/ebcafd83-9514-4f72-a995-fe7ee90cb9da/download/city_pairs.csv\"\r\n",
    "    print(\"loading from the internet\")\r\n",
    "\r\n",
    "international_air_traffic_data_set = pd.read_csv(filepath)\r\n",
    "print(\"done\")"
   ],
   "outputs": [],
   "metadata": {}
  },
  {
   "cell_type": "markdown",
   "source": [
    "Read the data frame as df"
   ],
   "metadata": {}
  },
  {
   "cell_type": "code",
   "execution_count": null,
   "source": [
    "df = pd.read_csv(\"international_air_traffic_data_set.csv\")\r\n",
    "df.head()"
   ],
   "outputs": [],
   "metadata": {}
  },
  {
   "cell_type": "code",
   "execution_count": null,
   "source": [],
   "outputs": [],
   "metadata": {}
  },
  {
   "cell_type": "code",
   "execution_count": null,
   "source": [],
   "outputs": [],
   "metadata": {}
  },
  {
   "cell_type": "markdown",
   "source": [
    "# Info about the data frame"
   ],
   "metadata": {}
  },
  {
   "cell_type": "markdown",
   "source": [
    "looking at the info for the code - are there any null values? what are the objects type?"
   ],
   "metadata": {}
  },
  {
   "cell_type": "code",
   "execution_count": null,
   "source": [
    "df.info()"
   ],
   "outputs": [],
   "metadata": {}
  },
  {
   "cell_type": "markdown",
   "source": [
    "Tells you how many items are in each YEAR"
   ],
   "metadata": {}
  },
  {
   "cell_type": "code",
   "execution_count": null,
   "source": [
    "df.groupby(\"Year\").size()"
   ],
   "outputs": [],
   "metadata": {}
  },
  {
   "cell_type": "markdown",
   "source": [
    "Tells you how many items are in each DOMESTIC PORT\r\n",
    "\r\n",
    "Highest to lowest"
   ],
   "metadata": {}
  },
  {
   "cell_type": "code",
   "execution_count": null,
   "source": [
    "df.AustralianPort.value_counts(dropna=False)"
   ],
   "outputs": [],
   "metadata": {}
  },
  {
   "cell_type": "markdown",
   "source": [
    "Tells you how many items are in each FOREIGN PORT\r\n",
    "\r\n",
    "Highest to lowest"
   ],
   "metadata": {}
  },
  {
   "cell_type": "code",
   "execution_count": null,
   "source": [
    "df.ForeignPort.value_counts(dropna=False)"
   ],
   "outputs": [],
   "metadata": {}
  },
  {
   "cell_type": "markdown",
   "source": [
    "Tells you how many items are in each FOREIGN PORT\r\n",
    "\r\n",
    "Alphabetical"
   ],
   "metadata": {}
  },
  {
   "cell_type": "code",
   "execution_count": null,
   "source": [
    "df.groupby(\"ForeignPort\").size()"
   ],
   "outputs": [],
   "metadata": {}
  },
  {
   "cell_type": "markdown",
   "source": [
    "This Function looks up a country in the data frame"
   ],
   "metadata": {}
  },
  {
   "cell_type": "code",
   "execution_count": null,
   "source": [
    "df.loc[df['Country'] == \"Japan\"]"
   ],
   "outputs": [],
   "metadata": {}
  },
  {
   "cell_type": "markdown",
   "source": [
    "This Function looks up a country in the data frame"
   ],
   "metadata": {}
  },
  {
   "cell_type": "code",
   "execution_count": null,
   "source": [
    "Look_up_a_Country = df[((df.Country == \"Japan\"))]\r\n",
    "Look_up_a_Country"
   ],
   "outputs": [],
   "metadata": {}
  },
  {
   "cell_type": "markdown",
   "source": [
    "Goes through all the rows in foreign port and prints them"
   ],
   "metadata": {}
  },
  {
   "cell_type": "code",
   "execution_count": null,
   "source": [
    "for index, row in df.iterrows():\r\n",
    "    print(index, row['ForeignPort'])"
   ],
   "outputs": [],
   "metadata": {}
  },
  {
   "cell_type": "markdown",
   "source": [
    "items that have a space in them"
   ],
   "metadata": {}
  },
  {
   "cell_type": "code",
   "execution_count": null,
   "source": [
    "df.loc[df[\"ForeignPort\"].str.contains(\" \")]\r\n",
    "\r\n",
    "# for items that dont have a space in them\r\n",
    "# df.loc[~df[\"ForeignPort\"].str.contains(\" \")] "
   ],
   "outputs": [],
   "metadata": {}
  },
  {
   "cell_type": "markdown",
   "source": [
    "# Useful Groupings"
   ],
   "metadata": {}
  },
  {
   "cell_type": "markdown",
   "source": [
    "Groups the data by DOMESTIC Airport"
   ],
   "metadata": {}
  },
  {
   "cell_type": "code",
   "execution_count": null,
   "source": [
    "for group_key, group_value in df.groupby(\"AustralianPort\"):\r\n",
    "    print(group_key)\r\n",
    "    print(group_value)"
   ],
   "outputs": [],
   "metadata": {}
  },
  {
   "cell_type": "markdown",
   "source": [
    "Groups the data frame by year"
   ],
   "metadata": {}
  },
  {
   "cell_type": "code",
   "execution_count": null,
   "source": [
    "for group_key, group_value in df.groupby(\"Year\"):\r\n",
    "    print(group_key)\r\n",
    "    print(group_value)"
   ],
   "outputs": [],
   "metadata": {}
  },
  {
   "cell_type": "markdown",
   "source": [
    "Creates a list of the FOREIGN PORTS"
   ],
   "metadata": {}
  },
  {
   "cell_type": "code",
   "execution_count": null,
   "source": [
    "list(df.groupby(\"ForeignPort\"))"
   ],
   "outputs": [],
   "metadata": {}
  },
  {
   "cell_type": "markdown",
   "source": [
    "Shows the first and last year that an airport had been used"
   ],
   "metadata": {}
  },
  {
   "cell_type": "code",
   "execution_count": null,
   "source": [
    "df.groupby(\"AustralianPort\").agg({\"Year\" : [\"count\", \"min\", \"max\"]})"
   ],
   "outputs": [],
   "metadata": {}
  },
  {
   "cell_type": "markdown",
   "source": [
    "Shows the first and last year that a country had been travelled to"
   ],
   "metadata": {}
  },
  {
   "cell_type": "code",
   "execution_count": null,
   "source": [
    "df.groupby(\"ForeignPort\").agg({\"Year\" : [\"count\", \"min\", \"max\"]})"
   ],
   "outputs": [],
   "metadata": {}
  },
  {
   "cell_type": "markdown",
   "source": [
    "SPECIFIC AIRPORT, MONTH AND YEAR\r\n",
    "\r\n",
    "Shows all the travel in January 2016 from Sydney"
   ],
   "metadata": {}
  },
  {
   "cell_type": "code",
   "execution_count": null,
   "source": [
    "a = df[(df.Year == 2016) & ((df.AustralianPort == \"Sydney\")) & ((df.Month_num == 1))]\r\n",
    "a"
   ],
   "outputs": [],
   "metadata": {}
  },
  {
   "cell_type": "markdown",
   "source": [
    "Groups the data frame by year and australian airport\r\n",
    "\r\n",
    "then it tells you how many times the foriegn airport appears in that year"
   ],
   "metadata": {}
  },
  {
   "cell_type": "code",
   "execution_count": null,
   "source": [
    "df.groupby([\"Year\", \"AustralianPort\", \"ForeignPort\"]).size()"
   ],
   "outputs": [],
   "metadata": {}
  },
  {
   "cell_type": "markdown",
   "source": [
    "Just shows a DATAFRAME with relevant infomration on PASSENGERS"
   ],
   "metadata": {}
  },
  {
   "cell_type": "code",
   "execution_count": null,
   "source": [
    "df[[\"Year\", \"AustralianPort\", \"ForeignPort\", \"Country\", \"Passengers_In\", \"Passengers_Out\", \"Passengers_Total\"]]"
   ],
   "outputs": [],
   "metadata": {}
  },
  {
   "cell_type": "markdown",
   "source": [
    "SHOWS cells with BOTH \"USA\" and \"SYDNEY\" in it\r\n",
    "\r\n",
    "boolean indexing \r\n",
    "\r\n",
    "Just shows a DATAFRAME with relevant infomration on PASSENGERS"
   ],
   "metadata": {}
  },
  {
   "cell_type": "code",
   "execution_count": null,
   "source": [
    "dfa = df[[\"Year\", \"AustralianPort\", \"ForeignPort\", \"Country\", \"Passengers_In\", \"Passengers_Out\", \"Passengers_Total\"]]\r\n",
    "Sydney = dfa[(dfa.AustralianPort == \"Sydney\") & (dfa.Country == \"USA\")]\r\n",
    "Sydney.sort_values(by=[\"Passengers_Total\", \"AustralianPort\"])\r\n",
    "Sydney.tail()"
   ],
   "outputs": [],
   "metadata": {}
  },
  {
   "cell_type": "markdown",
   "source": [
    "# 3. Get long and lat"
   ],
   "metadata": {}
  },
  {
   "cell_type": "markdown",
   "source": [
    "This goes to the internet and grabs the long and lat for the cities\r\n",
    "\r\n",
    "Grabs the unique items from the column we just made"
   ],
   "metadata": {}
  },
  {
   "cell_type": "code",
   "execution_count": null,
   "source": [
    "#import all these - in the link it shows you how to install them\r\n",
    "import pandas as pd\r\n",
    "import geopy\r\n",
    "from geopy.geocoders import Nominatim\r\n",
    "\r\n",
    "#I don't really understand code but this line makes it all work\r\n",
    "geolocator = Nominatim(timeout=10, user_agent = \"myGeolocator\")\r\n",
    "\r\n",
    "#This is just me reading in my data frame\r\n",
    "df = pd.read_csv(\"international_air_traffic_data_set.csv\")\r\n",
    "\r\n",
    "# This concatinates the columns for city name and country - e.g. Auckland, New Zealand\r\n",
    "\r\n",
    "df[\"full_address\"] = df.ForeignPort + \", \" + df.Country\r\n",
    "\r\n",
    "# My data frame has over 82000 rows, so I only want to look for the unique cities because there are only 203\r\n",
    "# therefore less time waiting for all the data to load\r\n",
    "unique_ports = df.full_address.unique()\r\n",
    "\r\n",
    "# here im creating \"buckets\" or \"empty lists\" to fill in the data that comes back from the api\r\n",
    "lat = []\r\n",
    "lon = []\r\n",
    "ports = []\r\n",
    "locations = []\r\n",
    "\r\n",
    "# This loop goes through each city in the \"unique cities\" list and get the geocode data from the internet\r\n",
    "for port in unique_ports:\r\n",
    "    try:\r\n",
    "        location = geolocator.geocode(port)\r\n",
    "        lat.append(location.latitude)\r\n",
    "        lon.append(location.longitude)\r\n",
    "        locations.append(location)\r\n",
    "        ports.append(port)\r\n",
    "        print(location.longitude, location.latitude)\r\n",
    "    except:\r\n",
    "        # i put in an except loop because sometimes the api doesnt recognise a city name\r\n",
    "        # if it return no value then it prints the name of the city it couldnt find\r\n",
    "        # im having some trouble at the moment with cases its getting confused somewhere along the way\r\n",
    "        # It doesnt like \"NewYork\" it likes \"New York\" it has to have a space - somewhere my code is removing the space\r\n",
    "        if location == None:\r\n",
    "            # by printing \"port\" you can see which cities it cant find\r\n",
    "            print(port)\r\n",
    "# this bit takes those lists from above and puts them in a dictionary\r\n",
    "di = {\"port\":ports, \"locations\":locations, \"latitude\":lat, \"longitude\":lon}\r\n",
    "dz = {\"latitude\":lat, \"longitude\":lon}\r\n",
    "# this converts the dictionary into a data frame\r\n",
    "# port_df is the data frame that gets merged to the bigger frame later\r\n",
    "port_df = pd.DataFrame(di)\r\n",
    "# long_lat is a data frame that just has long and lat data\r\n",
    "long_lat = pd.DataFrame(dz)"
   ],
   "outputs": [],
   "metadata": {}
  },
  {
   "cell_type": "markdown",
   "source": [
    "Merge the new data frame with the long/lat of the unique cities"
   ],
   "metadata": {}
  },
  {
   "cell_type": "code",
   "execution_count": null,
   "source": [
    "# I need to match the \"port\" column (the one we just geocoded and made) \r\n",
    "# with the \"full_address\" column we just created as a new column in the original data frame\r\n",
    "df_long_lat = pd.merge(df, port_df, left_on='full_address', right_on='port')\r\n",
    "df_long_lat.head()"
   ],
   "outputs": [],
   "metadata": {}
  },
  {
   "cell_type": "markdown",
   "source": [
    "Saves this to a new csv file\r\n",
    "\r\n",
    "Its called \"modified\""
   ],
   "metadata": {}
  },
  {
   "cell_type": "code",
   "execution_count": 84,
   "source": [
    "df_long_lat.to_csv('modified.csv', index=False)"
   ],
   "outputs": [],
   "metadata": {}
  },
  {
   "cell_type": "markdown",
   "source": [
    "# 4. Graphs"
   ],
   "metadata": {}
  },
  {
   "cell_type": "markdown",
   "source": [
    "Shows the amount of passengers from each country"
   ],
   "metadata": {}
  },
  {
   "cell_type": "code",
   "execution_count": null,
   "source": [
    "a = df.groupby(\"Country\").size()\r\n",
    "a.sort_values(ascending=False)\r\n",
    "a.plot(kind=\"bar\")\r\n",
    "plt.plot(a, \"x-\")\r\n",
    "plt.title(\"Airtravel Pasengers\", fontsize=18)\r\n",
    "plt.xlabel('Year', fontsize=26)\r\n",
    "plt.ylabel('Passengers', fontsize=26)\r\n",
    "plt.grid(False)\r\n",
    "plt.show()"
   ],
   "outputs": [],
   "metadata": {}
  },
  {
   "cell_type": "markdown",
   "source": [
    "Plots the Passengers\r\n",
    "\r\n",
    "Shows the increase in passengers and then decrease when COVID hit"
   ],
   "metadata": {}
  },
  {
   "cell_type": "code",
   "execution_count": null,
   "source": [
    "income = df[[\"Year\",\"Passengers_Out\"]].groupby(\"Year\").sum()\r\n",
    "\r\n",
    "plt.rcdefaults()\r\n",
    "plt.plot(income, \"x-\")\r\n",
    "plt.title(\"Airtravel Pasengers\", fontsize=18)\r\n",
    "plt.xlabel('Year', fontsize=26)\r\n",
    "plt.ylabel('Passengers', fontsize=26)\r\n",
    "plt.grid(True)\r\n",
    "plt.show()"
   ],
   "outputs": [],
   "metadata": {}
  },
  {
   "cell_type": "markdown",
   "source": [
    "# 5. Maps"
   ],
   "metadata": {}
  },
  {
   "cell_type": "markdown",
   "source": [
    "loads the world map and cites dataset"
   ],
   "metadata": {}
  },
  {
   "cell_type": "code",
   "execution_count": null,
   "source": [
    " world = gpd.read_file(gpd.datasets.get_path('naturalearth_lowres'))\r\n",
    " cities = gpd.read_file(gpd.datasets.get_path('naturalearth_cities'))"
   ],
   "outputs": [],
   "metadata": {}
  },
  {
   "cell_type": "markdown",
   "source": [
    "Shows the world map\r\n",
    "no data"
   ],
   "metadata": {}
  },
  {
   "cell_type": "code",
   "execution_count": null,
   "source": [
    "world.plot()"
   ],
   "outputs": [],
   "metadata": {}
  },
  {
   "cell_type": "markdown",
   "source": [
    "This code maps the long and lat data onto a world map"
   ],
   "metadata": {}
  },
  {
   "cell_type": "code",
   "execution_count": null,
   "source": [
    "# port_df = data frame with long/lat + name + location - only has unique cities\r\n",
    "# long_lat = data frame with just unique long/lat\r\n",
    "# df_long_lat = big data frame now containing the long and lat - takes longer if its used\r\n",
    "# the data frame with the long and lat coordinates\r\n",
    "data = port_df\r\n",
    "# tells python the coordinate system\r\n",
    "crs={'init':'epsg:4326'}\r\n",
    "# defines the geometry\r\n",
    "geometry = [Point(xy) for xy in zip(data[\"longitude\"], data[\"latitude\"])]\r\n",
    "# loads data from geopandas\r\n",
    "geodata = gpd.GeoDataFrame(data,crs=crs, geometry=geometry)\r\n",
    "\r\n",
    "world = gpd.read_file(gpd.datasets.get_path('naturalearth_lowres'))\r\n",
    "\r\n",
    "# Formatting stuff is below like colour, text etc\r\n",
    "fig, ax = plt.subplots(figsize=(15,7))\r\n",
    "\r\n",
    "world.plot(ax=ax, facecolor='Grey', edgecolor='k',alpha=1,linewidth=0.1,cmap=\"Blues\")\r\n",
    "\r\n",
    "#cmaps is the colour map - can check matplotlib for all the colour maps \r\n",
    "\r\n",
    "geodata.plot(ax=ax, color='red', markersize=5)  \r\n",
    "fig.suptitle('Airports', fontsize=12)\r\n",
    "ax.set_xlabel('Longitude', fontsize=10)\r\n",
    "ax.set_ylabel('Latitude', fontsize='medium')"
   ],
   "outputs": [],
   "metadata": {}
  }
 ],
 "metadata": {
  "kernelspec": {
   "name": "python3",
   "display_name": "Python 3.8.8 64-bit ('base': conda)"
  },
  "language_info": {
   "codemirror_mode": {
    "name": "ipython",
    "version": 3
   },
   "file_extension": ".py",
   "mimetype": "text/x-python",
   "name": "python",
   "nbconvert_exporter": "python",
   "pygments_lexer": "ipython3",
   "version": "3.8.8"
  },
  "interpreter": {
   "hash": "1c7f834a8519830c4fba855057924470a7054789cccd5efc87bcc23af612ae66"
  }
 },
 "nbformat": 4,
 "nbformat_minor": 1
}