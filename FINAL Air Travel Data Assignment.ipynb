{
 "cells": [
  {
   "cell_type": "markdown",
   "source": [
    "# 1. Imports"
   ],
   "metadata": {}
  },
  {
   "cell_type": "markdown",
   "source": [
    "`imports`, you've seen this before!"
   ],
   "metadata": {
    "slideshow": {
     "slide_type": "slide"
    }
   }
  },
  {
   "cell_type": "code",
   "execution_count": 22,
   "source": [
    "import matplotlib\r\n",
    "import matplotlib.pyplot as plt\r\n",
    "import numpy as np\r\n",
    "import pandas as pd\r\n",
    "import os\r\n",
    "from datetime import datetime\r\n",
    "import geopy\r\n",
    "from geopy.geocoders import Nominatim\r\n",
    "import seaborn as sns\r\n",
    "import geopandas as gpd\r\n",
    "from shapely.geometry import Point, Polygon"
   ],
   "outputs": [],
   "metadata": {
    "slideshow": {
     "slide_type": "-"
    }
   }
  },
  {
   "cell_type": "markdown",
   "source": [
    "Some magic that tells jupyter to put graphs and things in the notebook instead of the default behaviour which is to save it as a file."
   ],
   "metadata": {
    "slideshow": {
     "slide_type": "fragment"
    }
   }
  },
  {
   "cell_type": "code",
   "execution_count": 23,
   "source": [
    "%matplotlib inline"
   ],
   "outputs": [],
   "metadata": {
    "slideshow": {
     "slide_type": "-"
    }
   }
  },
  {
   "cell_type": "markdown",
   "source": [
    "# 2. Read in the csv file"
   ],
   "metadata": {}
  },
  {
   "cell_type": "code",
   "execution_count": 24,
   "source": [
    "if os.path.isfile(\"international_air_traffic_data_set.csv\"):\r\n",
    "    filepath = \"international_air_traffic_data_set.csv\"\r\n",
    "    print(\"loading from file\")\r\n",
    "else:\r\n",
    "    filepath = \"https://data.gov.au/data/dataset/d9fbffaa-836f-4f52-80e8-324249ff269f/resource/ebcafd83-9514-4f72-a995-fe7ee90cb9da/download/city_pairs.csv\"\r\n",
    "    print(\"loading from the internet\")\r\n",
    "\r\n",
    "international_air_traffic_data_set = pd.read_csv(filepath)\r\n",
    "print(\"done\")"
   ],
   "outputs": [
    {
     "output_type": "stream",
     "name": "stdout",
     "text": [
      "loading from file\n",
      "done\n"
     ]
    }
   ],
   "metadata": {}
  },
  {
   "cell_type": "markdown",
   "source": [
    "Read the data frame as df"
   ],
   "metadata": {}
  },
  {
   "cell_type": "code",
   "execution_count": 25,
   "source": [
    "df = pd.read_csv(\"international_air_traffic_data_set.csv\")\r\n",
    "df.head()"
   ],
   "outputs": [
    {
     "output_type": "execute_result",
     "data": {
      "text/plain": [
       "   Month AustralianPort ForeignPort      Country  Passengers_In  \\\n",
       "0  31048       Adelaide    Auckland  New Zealand         1513.0   \n",
       "1  31048       Adelaide     Bahrain      Bahrain           12.0   \n",
       "2  31048       Adelaide      Bombay        India            7.0   \n",
       "3  31048       Adelaide   Frankfurt      Germany          115.0   \n",
       "4  31048       Adelaide      London           UK         1567.0   \n",
       "\n",
       "   Freight_In_(tonnes)  Mail_In_(tonnes)  Passengers_Out  \\\n",
       "0               42.167             0.311           985.0   \n",
       "1                0.000             0.000             5.0   \n",
       "2                0.000             0.000             5.0   \n",
       "3                0.009             0.000           171.0   \n",
       "4                2.800             0.000          1472.0   \n",
       "\n",
       "   Freight_Out_(tonnes)  Mail_Out_(tonnes)  Passengers_Total  \\\n",
       "0                18.704              0.924            2498.0   \n",
       "1                 0.033              0.000              17.0   \n",
       "2                 0.000              0.000              12.0   \n",
       "3                 0.000              0.248             286.0   \n",
       "4                10.618              2.487            3039.0   \n",
       "\n",
       "   Freight_Total_(tonnes)  Mail_Total_(tonnes)  Year  Month_num  \n",
       "0                  60.871                1.235  1985          1  \n",
       "1                   0.033                0.000  1985          1  \n",
       "2                   0.000                0.000  1985          1  \n",
       "3                   0.009                0.248  1985          1  \n",
       "4                  13.418                2.487  1985          1  "
      ],
      "text/html": [
       "<div>\n",
       "<style scoped>\n",
       "    .dataframe tbody tr th:only-of-type {\n",
       "        vertical-align: middle;\n",
       "    }\n",
       "\n",
       "    .dataframe tbody tr th {\n",
       "        vertical-align: top;\n",
       "    }\n",
       "\n",
       "    .dataframe thead th {\n",
       "        text-align: right;\n",
       "    }\n",
       "</style>\n",
       "<table border=\"1\" class=\"dataframe\">\n",
       "  <thead>\n",
       "    <tr style=\"text-align: right;\">\n",
       "      <th></th>\n",
       "      <th>Month</th>\n",
       "      <th>AustralianPort</th>\n",
       "      <th>ForeignPort</th>\n",
       "      <th>Country</th>\n",
       "      <th>Passengers_In</th>\n",
       "      <th>Freight_In_(tonnes)</th>\n",
       "      <th>Mail_In_(tonnes)</th>\n",
       "      <th>Passengers_Out</th>\n",
       "      <th>Freight_Out_(tonnes)</th>\n",
       "      <th>Mail_Out_(tonnes)</th>\n",
       "      <th>Passengers_Total</th>\n",
       "      <th>Freight_Total_(tonnes)</th>\n",
       "      <th>Mail_Total_(tonnes)</th>\n",
       "      <th>Year</th>\n",
       "      <th>Month_num</th>\n",
       "    </tr>\n",
       "  </thead>\n",
       "  <tbody>\n",
       "    <tr>\n",
       "      <th>0</th>\n",
       "      <td>31048</td>\n",
       "      <td>Adelaide</td>\n",
       "      <td>Auckland</td>\n",
       "      <td>New Zealand</td>\n",
       "      <td>1513.0</td>\n",
       "      <td>42.167</td>\n",
       "      <td>0.311</td>\n",
       "      <td>985.0</td>\n",
       "      <td>18.704</td>\n",
       "      <td>0.924</td>\n",
       "      <td>2498.0</td>\n",
       "      <td>60.871</td>\n",
       "      <td>1.235</td>\n",
       "      <td>1985</td>\n",
       "      <td>1</td>\n",
       "    </tr>\n",
       "    <tr>\n",
       "      <th>1</th>\n",
       "      <td>31048</td>\n",
       "      <td>Adelaide</td>\n",
       "      <td>Bahrain</td>\n",
       "      <td>Bahrain</td>\n",
       "      <td>12.0</td>\n",
       "      <td>0.000</td>\n",
       "      <td>0.000</td>\n",
       "      <td>5.0</td>\n",
       "      <td>0.033</td>\n",
       "      <td>0.000</td>\n",
       "      <td>17.0</td>\n",
       "      <td>0.033</td>\n",
       "      <td>0.000</td>\n",
       "      <td>1985</td>\n",
       "      <td>1</td>\n",
       "    </tr>\n",
       "    <tr>\n",
       "      <th>2</th>\n",
       "      <td>31048</td>\n",
       "      <td>Adelaide</td>\n",
       "      <td>Bombay</td>\n",
       "      <td>India</td>\n",
       "      <td>7.0</td>\n",
       "      <td>0.000</td>\n",
       "      <td>0.000</td>\n",
       "      <td>5.0</td>\n",
       "      <td>0.000</td>\n",
       "      <td>0.000</td>\n",
       "      <td>12.0</td>\n",
       "      <td>0.000</td>\n",
       "      <td>0.000</td>\n",
       "      <td>1985</td>\n",
       "      <td>1</td>\n",
       "    </tr>\n",
       "    <tr>\n",
       "      <th>3</th>\n",
       "      <td>31048</td>\n",
       "      <td>Adelaide</td>\n",
       "      <td>Frankfurt</td>\n",
       "      <td>Germany</td>\n",
       "      <td>115.0</td>\n",
       "      <td>0.009</td>\n",
       "      <td>0.000</td>\n",
       "      <td>171.0</td>\n",
       "      <td>0.000</td>\n",
       "      <td>0.248</td>\n",
       "      <td>286.0</td>\n",
       "      <td>0.009</td>\n",
       "      <td>0.248</td>\n",
       "      <td>1985</td>\n",
       "      <td>1</td>\n",
       "    </tr>\n",
       "    <tr>\n",
       "      <th>4</th>\n",
       "      <td>31048</td>\n",
       "      <td>Adelaide</td>\n",
       "      <td>London</td>\n",
       "      <td>UK</td>\n",
       "      <td>1567.0</td>\n",
       "      <td>2.800</td>\n",
       "      <td>0.000</td>\n",
       "      <td>1472.0</td>\n",
       "      <td>10.618</td>\n",
       "      <td>2.487</td>\n",
       "      <td>3039.0</td>\n",
       "      <td>13.418</td>\n",
       "      <td>2.487</td>\n",
       "      <td>1985</td>\n",
       "      <td>1</td>\n",
       "    </tr>\n",
       "  </tbody>\n",
       "</table>\n",
       "</div>"
      ]
     },
     "metadata": {},
     "execution_count": 25
    }
   ],
   "metadata": {}
  },
  {
   "cell_type": "code",
   "execution_count": null,
   "source": [],
   "outputs": [],
   "metadata": {}
  },
  {
   "cell_type": "code",
   "execution_count": null,
   "source": [],
   "outputs": [],
   "metadata": {}
  },
  {
   "cell_type": "markdown",
   "source": [
    "# Info about the data frame"
   ],
   "metadata": {}
  },
  {
   "cell_type": "markdown",
   "source": [
    "looking at the info for the code - are there any null values? what are the objects type?"
   ],
   "metadata": {}
  },
  {
   "cell_type": "code",
   "execution_count": 26,
   "source": [
    "df.info()"
   ],
   "outputs": [
    {
     "output_type": "stream",
     "name": "stdout",
     "text": [
      "<class 'pandas.core.frame.DataFrame'>\n",
      "RangeIndex: 82499 entries, 0 to 82498\n",
      "Data columns (total 15 columns):\n",
      " #   Column                  Non-Null Count  Dtype  \n",
      "---  ------                  --------------  -----  \n",
      " 0   Month                   82499 non-null  int64  \n",
      " 1   AustralianPort          82499 non-null  object \n",
      " 2   ForeignPort             82499 non-null  object \n",
      " 3   Country                 82499 non-null  object \n",
      " 4   Passengers_In           82487 non-null  float64\n",
      " 5   Freight_In_(tonnes)     82495 non-null  float64\n",
      " 6   Mail_In_(tonnes)        82495 non-null  float64\n",
      " 7   Passengers_Out          82489 non-null  float64\n",
      " 8   Freight_Out_(tonnes)    82495 non-null  float64\n",
      " 9   Mail_Out_(tonnes)       82495 non-null  float64\n",
      " 10  Passengers_Total        82489 non-null  float64\n",
      " 11  Freight_Total_(tonnes)  82499 non-null  float64\n",
      " 12  Mail_Total_(tonnes)     82499 non-null  float64\n",
      " 13  Year                    82499 non-null  int64  \n",
      " 14  Month_num               82499 non-null  int64  \n",
      "dtypes: float64(9), int64(3), object(3)\n",
      "memory usage: 9.4+ MB\n"
     ]
    }
   ],
   "metadata": {}
  },
  {
   "cell_type": "markdown",
   "source": [
    "Tells you how many items are in each YEAR"
   ],
   "metadata": {}
  },
  {
   "cell_type": "code",
   "execution_count": 27,
   "source": [
    "df.groupby(\"Year\").size()"
   ],
   "outputs": [
    {
     "output_type": "execute_result",
     "data": {
      "text/plain": [
       "Year\n",
       "1985    1944\n",
       "1986    2224\n",
       "1987    2284\n",
       "1988    2361\n",
       "1989    2369\n",
       "1990    2471\n",
       "1991    2281\n",
       "1992    2469\n",
       "1993    2656\n",
       "1994    2600\n",
       "1995    2807\n",
       "1996    3035\n",
       "1997    3157\n",
       "1998    3162\n",
       "1999    3407\n",
       "2000    3502\n",
       "2001    2970\n",
       "2002    2769\n",
       "2003    1820\n",
       "2004    1877\n",
       "2005    1898\n",
       "2006    1830\n",
       "2007    1824\n",
       "2008    1792\n",
       "2009    1738\n",
       "2010    1791\n",
       "2011    1875\n",
       "2012    1808\n",
       "2013    1848\n",
       "2014    1786\n",
       "2015    1828\n",
       "2016    1949\n",
       "2017    2106\n",
       "2018    2240\n",
       "2019    2219\n",
       "2020    1373\n",
       "2021     429\n",
       "dtype: int64"
      ]
     },
     "metadata": {},
     "execution_count": 27
    }
   ],
   "metadata": {}
  },
  {
   "cell_type": "markdown",
   "source": [
    "Tells you how many items are in each DOMESTIC PORT\r\n",
    "\r\n",
    "Highest to lowest"
   ],
   "metadata": {}
  },
  {
   "cell_type": "code",
   "execution_count": 28,
   "source": [
    "df.AustralianPort.value_counts(dropna=False)"
   ],
   "outputs": [
    {
     "output_type": "execute_result",
     "data": {
      "text/plain": [
       "Sydney                    22911\n",
       "Melbourne                 16471\n",
       "Brisbane                  13628\n",
       "Perth                      8890\n",
       "Cairns                     6752\n",
       "Adelaide                   5967\n",
       "Darwin                     4383\n",
       "Gold Coast                  970\n",
       "Townsville                  660\n",
       "Gold Coast/Coolangatta      503\n",
       "Norfolk Island              418\n",
       "Hobart                      319\n",
       "Port Hedland                286\n",
       "Canberra                     94\n",
       "Christmas Island             80\n",
       "Toowoomba Wellcamp           64\n",
       "Broome                       37\n",
       "Sunshine Coast               37\n",
       "Newcastle                    18\n",
       "GoldCoast                     8\n",
       "NorfolkIsland                 1\n",
       "PortHedland                   1\n",
       "ToowoombaWellcamp             1\n",
       "Name: AustralianPort, dtype: int64"
      ]
     },
     "metadata": {},
     "execution_count": 28
    }
   ],
   "metadata": {}
  },
  {
   "cell_type": "markdown",
   "source": [
    "Tells you how many items are in each FOREIGN PORT\r\n",
    "\r\n",
    "Highest to lowest"
   ],
   "metadata": {}
  },
  {
   "cell_type": "code",
   "execution_count": 29,
   "source": [
    "df.ForeignPort.value_counts(dropna=False)"
   ],
   "outputs": [
    {
     "output_type": "execute_result",
     "data": {
      "text/plain": [
       "Auckland          3460\n",
       "Singapore         3253\n",
       "Denpasar          2992\n",
       "Hong Kong         2793\n",
       "Kuala Lumpur      2505\n",
       "                  ... \n",
       "Mombasa              1\n",
       "San Diego            1\n",
       "Phoenix              1\n",
       "Al Ain               1\n",
       "General Santos       1\n",
       "Name: ForeignPort, Length: 203, dtype: int64"
      ]
     },
     "metadata": {},
     "execution_count": 29
    }
   ],
   "metadata": {}
  },
  {
   "cell_type": "markdown",
   "source": [
    "Tells you how many items are in each FOREIGN PORT\r\n",
    "\r\n",
    "Alphabetical"
   ],
   "metadata": {}
  },
  {
   "cell_type": "code",
   "execution_count": 30,
   "source": [
    "df.groupby(\"ForeignPort\").size()"
   ],
   "outputs": [
    {
     "output_type": "execute_result",
     "data": {
      "text/plain": [
       "ForeignPort\n",
       "Abu Dhabi    808\n",
       "AbuDhabi       3\n",
       "Abuja          3\n",
       "Al Ain         1\n",
       "Almaty        17\n",
       "            ... \n",
       "Xi'an         81\n",
       "Xiamen       111\n",
       "Zagreb        22\n",
       "Zhengzhou     46\n",
       "Zurich       128\n",
       "Length: 203, dtype: int64"
      ]
     },
     "metadata": {},
     "execution_count": 30
    }
   ],
   "metadata": {}
  },
  {
   "cell_type": "markdown",
   "source": [
    "This Function looks up a country in the data frame"
   ],
   "metadata": {}
  },
  {
   "cell_type": "code",
   "execution_count": 31,
   "source": [
    "Look_up_a_Country = df[((df.Country == \"Japan\"))]\r\n",
    "Look_up_a_Country"
   ],
   "outputs": [
    {
     "output_type": "execute_result",
     "data": {
      "text/plain": [
       "       Month AustralianPort ForeignPort Country  Passengers_In  \\\n",
       "31     31048       Brisbane       Tokyo   Japan          536.0   \n",
       "86     31048      Melbourne       Tokyo   Japan          228.0   \n",
       "108    31048          Perth       Tokyo   Japan           55.0   \n",
       "152    31048         Sydney       Tokyo   Japan         5949.0   \n",
       "192    31079       Brisbane       Tokyo   Japan          455.0   \n",
       "...      ...            ...         ...     ...            ...   \n",
       "82409  44287       Brisbane       Tokyo   Japan            0.0   \n",
       "82414  44287         Cairns       Tokyo   Japan            0.0   \n",
       "82443  44287      Melbourne       Tokyo   Japan            0.0   \n",
       "82479  44287         Sydney      Nagoya   Japan            0.0   \n",
       "82493  44287         Sydney       Tokyo   Japan          789.0   \n",
       "\n",
       "       Freight_In_(tonnes)  Mail_In_(tonnes)  Passengers_Out  \\\n",
       "31                   4.085             0.000           384.0   \n",
       "86                  42.059             1.404           333.0   \n",
       "108                  3.004             0.000            35.0   \n",
       "152                313.350            15.190          5993.0   \n",
       "192                  7.364             0.000           206.0   \n",
       "...                    ...               ...             ...   \n",
       "82409               39.567            41.454             0.0   \n",
       "82414                0.000             0.000             0.0   \n",
       "82443               89.343            10.888             0.0   \n",
       "82479                0.000             0.000             0.0   \n",
       "82493              518.853            55.656           888.0   \n",
       "\n",
       "       Freight_Out_(tonnes)  Mail_Out_(tonnes)  Passengers_Total  \\\n",
       "31                    4.713              0.212             920.0   \n",
       "86                   15.395              0.892             561.0   \n",
       "108                  13.661              0.262              90.0   \n",
       "152                 185.748              5.289           11942.0   \n",
       "192                   5.626              0.312             661.0   \n",
       "...                     ...                ...               ...   \n",
       "82409               139.605             17.499               0.0   \n",
       "82414                 0.006              0.000               0.0   \n",
       "82443               207.554              3.199               0.0   \n",
       "82479                 0.000              0.000               0.0   \n",
       "82493               668.092             15.402            1677.0   \n",
       "\n",
       "       Freight_Total_(tonnes)  Mail_Total_(tonnes)  Year  Month_num  \n",
       "31                      8.798                0.212  1985          1  \n",
       "86                     57.454                2.296  1985          1  \n",
       "108                    16.665                0.262  1985          1  \n",
       "152                   499.098               20.479  1985          1  \n",
       "192                    12.990                0.312  1985          2  \n",
       "...                       ...                  ...   ...        ...  \n",
       "82409                 179.172               58.953  2021          4  \n",
       "82414                   0.006                0.000  2021          4  \n",
       "82443                 296.897               14.087  2021          4  \n",
       "82479                   0.000                0.000  2021          4  \n",
       "82493                1186.945               71.058  2021          4  \n",
       "\n",
       "[5533 rows x 15 columns]"
      ],
      "text/html": [
       "<div>\n",
       "<style scoped>\n",
       "    .dataframe tbody tr th:only-of-type {\n",
       "        vertical-align: middle;\n",
       "    }\n",
       "\n",
       "    .dataframe tbody tr th {\n",
       "        vertical-align: top;\n",
       "    }\n",
       "\n",
       "    .dataframe thead th {\n",
       "        text-align: right;\n",
       "    }\n",
       "</style>\n",
       "<table border=\"1\" class=\"dataframe\">\n",
       "  <thead>\n",
       "    <tr style=\"text-align: right;\">\n",
       "      <th></th>\n",
       "      <th>Month</th>\n",
       "      <th>AustralianPort</th>\n",
       "      <th>ForeignPort</th>\n",
       "      <th>Country</th>\n",
       "      <th>Passengers_In</th>\n",
       "      <th>Freight_In_(tonnes)</th>\n",
       "      <th>Mail_In_(tonnes)</th>\n",
       "      <th>Passengers_Out</th>\n",
       "      <th>Freight_Out_(tonnes)</th>\n",
       "      <th>Mail_Out_(tonnes)</th>\n",
       "      <th>Passengers_Total</th>\n",
       "      <th>Freight_Total_(tonnes)</th>\n",
       "      <th>Mail_Total_(tonnes)</th>\n",
       "      <th>Year</th>\n",
       "      <th>Month_num</th>\n",
       "    </tr>\n",
       "  </thead>\n",
       "  <tbody>\n",
       "    <tr>\n",
       "      <th>31</th>\n",
       "      <td>31048</td>\n",
       "      <td>Brisbane</td>\n",
       "      <td>Tokyo</td>\n",
       "      <td>Japan</td>\n",
       "      <td>536.0</td>\n",
       "      <td>4.085</td>\n",
       "      <td>0.000</td>\n",
       "      <td>384.0</td>\n",
       "      <td>4.713</td>\n",
       "      <td>0.212</td>\n",
       "      <td>920.0</td>\n",
       "      <td>8.798</td>\n",
       "      <td>0.212</td>\n",
       "      <td>1985</td>\n",
       "      <td>1</td>\n",
       "    </tr>\n",
       "    <tr>\n",
       "      <th>86</th>\n",
       "      <td>31048</td>\n",
       "      <td>Melbourne</td>\n",
       "      <td>Tokyo</td>\n",
       "      <td>Japan</td>\n",
       "      <td>228.0</td>\n",
       "      <td>42.059</td>\n",
       "      <td>1.404</td>\n",
       "      <td>333.0</td>\n",
       "      <td>15.395</td>\n",
       "      <td>0.892</td>\n",
       "      <td>561.0</td>\n",
       "      <td>57.454</td>\n",
       "      <td>2.296</td>\n",
       "      <td>1985</td>\n",
       "      <td>1</td>\n",
       "    </tr>\n",
       "    <tr>\n",
       "      <th>108</th>\n",
       "      <td>31048</td>\n",
       "      <td>Perth</td>\n",
       "      <td>Tokyo</td>\n",
       "      <td>Japan</td>\n",
       "      <td>55.0</td>\n",
       "      <td>3.004</td>\n",
       "      <td>0.000</td>\n",
       "      <td>35.0</td>\n",
       "      <td>13.661</td>\n",
       "      <td>0.262</td>\n",
       "      <td>90.0</td>\n",
       "      <td>16.665</td>\n",
       "      <td>0.262</td>\n",
       "      <td>1985</td>\n",
       "      <td>1</td>\n",
       "    </tr>\n",
       "    <tr>\n",
       "      <th>152</th>\n",
       "      <td>31048</td>\n",
       "      <td>Sydney</td>\n",
       "      <td>Tokyo</td>\n",
       "      <td>Japan</td>\n",
       "      <td>5949.0</td>\n",
       "      <td>313.350</td>\n",
       "      <td>15.190</td>\n",
       "      <td>5993.0</td>\n",
       "      <td>185.748</td>\n",
       "      <td>5.289</td>\n",
       "      <td>11942.0</td>\n",
       "      <td>499.098</td>\n",
       "      <td>20.479</td>\n",
       "      <td>1985</td>\n",
       "      <td>1</td>\n",
       "    </tr>\n",
       "    <tr>\n",
       "      <th>192</th>\n",
       "      <td>31079</td>\n",
       "      <td>Brisbane</td>\n",
       "      <td>Tokyo</td>\n",
       "      <td>Japan</td>\n",
       "      <td>455.0</td>\n",
       "      <td>7.364</td>\n",
       "      <td>0.000</td>\n",
       "      <td>206.0</td>\n",
       "      <td>5.626</td>\n",
       "      <td>0.312</td>\n",
       "      <td>661.0</td>\n",
       "      <td>12.990</td>\n",
       "      <td>0.312</td>\n",
       "      <td>1985</td>\n",
       "      <td>2</td>\n",
       "    </tr>\n",
       "    <tr>\n",
       "      <th>...</th>\n",
       "      <td>...</td>\n",
       "      <td>...</td>\n",
       "      <td>...</td>\n",
       "      <td>...</td>\n",
       "      <td>...</td>\n",
       "      <td>...</td>\n",
       "      <td>...</td>\n",
       "      <td>...</td>\n",
       "      <td>...</td>\n",
       "      <td>...</td>\n",
       "      <td>...</td>\n",
       "      <td>...</td>\n",
       "      <td>...</td>\n",
       "      <td>...</td>\n",
       "      <td>...</td>\n",
       "    </tr>\n",
       "    <tr>\n",
       "      <th>82409</th>\n",
       "      <td>44287</td>\n",
       "      <td>Brisbane</td>\n",
       "      <td>Tokyo</td>\n",
       "      <td>Japan</td>\n",
       "      <td>0.0</td>\n",
       "      <td>39.567</td>\n",
       "      <td>41.454</td>\n",
       "      <td>0.0</td>\n",
       "      <td>139.605</td>\n",
       "      <td>17.499</td>\n",
       "      <td>0.0</td>\n",
       "      <td>179.172</td>\n",
       "      <td>58.953</td>\n",
       "      <td>2021</td>\n",
       "      <td>4</td>\n",
       "    </tr>\n",
       "    <tr>\n",
       "      <th>82414</th>\n",
       "      <td>44287</td>\n",
       "      <td>Cairns</td>\n",
       "      <td>Tokyo</td>\n",
       "      <td>Japan</td>\n",
       "      <td>0.0</td>\n",
       "      <td>0.000</td>\n",
       "      <td>0.000</td>\n",
       "      <td>0.0</td>\n",
       "      <td>0.006</td>\n",
       "      <td>0.000</td>\n",
       "      <td>0.0</td>\n",
       "      <td>0.006</td>\n",
       "      <td>0.000</td>\n",
       "      <td>2021</td>\n",
       "      <td>4</td>\n",
       "    </tr>\n",
       "    <tr>\n",
       "      <th>82443</th>\n",
       "      <td>44287</td>\n",
       "      <td>Melbourne</td>\n",
       "      <td>Tokyo</td>\n",
       "      <td>Japan</td>\n",
       "      <td>0.0</td>\n",
       "      <td>89.343</td>\n",
       "      <td>10.888</td>\n",
       "      <td>0.0</td>\n",
       "      <td>207.554</td>\n",
       "      <td>3.199</td>\n",
       "      <td>0.0</td>\n",
       "      <td>296.897</td>\n",
       "      <td>14.087</td>\n",
       "      <td>2021</td>\n",
       "      <td>4</td>\n",
       "    </tr>\n",
       "    <tr>\n",
       "      <th>82479</th>\n",
       "      <td>44287</td>\n",
       "      <td>Sydney</td>\n",
       "      <td>Nagoya</td>\n",
       "      <td>Japan</td>\n",
       "      <td>0.0</td>\n",
       "      <td>0.000</td>\n",
       "      <td>0.000</td>\n",
       "      <td>0.0</td>\n",
       "      <td>0.000</td>\n",
       "      <td>0.000</td>\n",
       "      <td>0.0</td>\n",
       "      <td>0.000</td>\n",
       "      <td>0.000</td>\n",
       "      <td>2021</td>\n",
       "      <td>4</td>\n",
       "    </tr>\n",
       "    <tr>\n",
       "      <th>82493</th>\n",
       "      <td>44287</td>\n",
       "      <td>Sydney</td>\n",
       "      <td>Tokyo</td>\n",
       "      <td>Japan</td>\n",
       "      <td>789.0</td>\n",
       "      <td>518.853</td>\n",
       "      <td>55.656</td>\n",
       "      <td>888.0</td>\n",
       "      <td>668.092</td>\n",
       "      <td>15.402</td>\n",
       "      <td>1677.0</td>\n",
       "      <td>1186.945</td>\n",
       "      <td>71.058</td>\n",
       "      <td>2021</td>\n",
       "      <td>4</td>\n",
       "    </tr>\n",
       "  </tbody>\n",
       "</table>\n",
       "<p>5533 rows × 15 columns</p>\n",
       "</div>"
      ]
     },
     "metadata": {},
     "execution_count": 31
    }
   ],
   "metadata": {}
  },
  {
   "cell_type": "markdown",
   "source": [
    "# Useful Groupings"
   ],
   "metadata": {}
  },
  {
   "cell_type": "markdown",
   "source": [
    "Groups the data by DOMESTIC Airport"
   ],
   "metadata": {}
  },
  {
   "cell_type": "code",
   "execution_count": null,
   "source": [
    "for group_key, group_value in df.groupby(\"AustralianPort\"):\r\n",
    "    print(group_key)\r\n",
    "    print(group_value)"
   ],
   "outputs": [],
   "metadata": {}
  },
  {
   "cell_type": "markdown",
   "source": [
    "Groups the data frame by year"
   ],
   "metadata": {}
  },
  {
   "cell_type": "code",
   "execution_count": null,
   "source": [
    "for group_key, group_value in df.groupby(\"Year\"):\r\n",
    "    print(group_key)\r\n",
    "    print(group_value)"
   ],
   "outputs": [],
   "metadata": {}
  },
  {
   "cell_type": "markdown",
   "source": [
    "Creates a list of the FOREIGN PORTS"
   ],
   "metadata": {}
  },
  {
   "cell_type": "code",
   "execution_count": null,
   "source": [
    "list(df.groupby(\"ForeignPort\"))"
   ],
   "outputs": [],
   "metadata": {}
  },
  {
   "cell_type": "markdown",
   "source": [
    "Shows the first and last year that an airport had been used"
   ],
   "metadata": {}
  },
  {
   "cell_type": "code",
   "execution_count": null,
   "source": [
    "df.groupby(\"AustralianPort\").agg({\"Year\" : [\"count\", \"min\", \"max\"]})"
   ],
   "outputs": [],
   "metadata": {}
  },
  {
   "cell_type": "markdown",
   "source": [
    "Shows the first and last year that a country had been travelled to"
   ],
   "metadata": {}
  },
  {
   "cell_type": "code",
   "execution_count": null,
   "source": [
    "df.groupby(\"ForeignPort\").agg({\"Year\" : [\"count\", \"min\", \"max\"]})"
   ],
   "outputs": [],
   "metadata": {}
  },
  {
   "cell_type": "markdown",
   "source": [
    "SPECIFIC AIRPORT, MONTH AND YEAR\r\n",
    "\r\n",
    "Shows all the travel in January 2016 from Sydney"
   ],
   "metadata": {}
  },
  {
   "cell_type": "code",
   "execution_count": null,
   "source": [
    "a = df[(df.Year == 2016) & ((df.AustralianPort == \"Sydney\")) & ((df.Month_num == 1))]\r\n",
    "a"
   ],
   "outputs": [],
   "metadata": {}
  },
  {
   "cell_type": "markdown",
   "source": [
    "Groups the data frame by year and australian airport\r\n",
    "\r\n",
    "then it tells you how many times the foriegn airport appears in that year"
   ],
   "metadata": {}
  },
  {
   "cell_type": "code",
   "execution_count": null,
   "source": [
    "df.groupby([\"Year\", \"AustralianPort\", \"ForeignPort\"]).size()"
   ],
   "outputs": [],
   "metadata": {}
  },
  {
   "cell_type": "markdown",
   "source": [
    "Just shows a DATAFRAME with relevant infomration on PASSENGERS"
   ],
   "metadata": {}
  },
  {
   "cell_type": "code",
   "execution_count": null,
   "source": [
    "df[[\"Year\", \"AustralianPort\", \"ForeignPort\", \"Country\", \"Passengers_In\", \"Passengers_Out\", \"Passengers_Total\"]]"
   ],
   "outputs": [],
   "metadata": {}
  },
  {
   "cell_type": "markdown",
   "source": [
    "SHOWS cells with BOTH \"USA\" and \"SYDNEY\" in it\r\n",
    "\r\n",
    "boolean indexing \r\n",
    "\r\n",
    "Just shows a DATAFRAME with relevant infomration on PASSENGERS"
   ],
   "metadata": {}
  },
  {
   "cell_type": "code",
   "execution_count": null,
   "source": [
    "dfa = df[[\"Year\", \"AustralianPort\", \"ForeignPort\", \"Country\", \"Passengers_In\", \"Passengers_Out\", \"Passengers_Total\"]]\r\n",
    "Sydney = dfa[(dfa.AustralianPort == \"Sydney\") & (dfa.Country == \"USA\")]\r\n",
    "Sydney.sort_values(by=[\"Passengers_Total\", \"AustralianPort\"])\r\n",
    "Sydney.tail()"
   ],
   "outputs": [],
   "metadata": {}
  },
  {
   "cell_type": "markdown",
   "source": [
    "# 3. Get long and lat"
   ],
   "metadata": {}
  },
  {
   "cell_type": "code",
   "execution_count": null,
   "source": [
    "#import all these - in the link it shows you how to install them\r\n",
    "import pandas as pd\r\n",
    "import geopy\r\n",
    "from geopy.geocoders import Nominatim\r\n",
    "\r\n",
    "#I don't really understand code but this line makes it all work\r\n",
    "geolocator = Nominatim(timeout=10, user_agent = \"myGeolocator\")\r\n",
    "\r\n",
    "#This is just me reading in my data frame\r\n",
    "df = pd.read_csv(\"international_air_traffic_data_set.csv\")\r\n",
    "\r\n",
    "#this concatinates the columns for city name and country - e.g. Auckland, New Zealand\r\n",
    "df[\"full_address\"] = df.ForeignPort + \", \" + df.Country\r\n",
    "\r\n",
    "# My data frame has over 82000 rows, so I only want to look for the unique cities because there are only 203\r\n",
    "# therefore less time waiting for all the data to load\r\n",
    "unique_ports = df.full_address.unique()\r\n",
    "\r\n",
    "# here im creating \"buckets\" or \"empty lists\" to fill in the data that comes back from the api\r\n",
    "lat = []\r\n",
    "lon = []\r\n",
    "ports = []\r\n",
    "locations = []\r\n",
    "\r\n",
    "# This loop goes through each city in the \"unique cities\" list and get the geocode data from the internet\r\n",
    "for port in unique_ports:\r\n",
    "    try:\r\n",
    "        location = geolocator.geocode(port)\r\n",
    "        lat.append(location.latitude)\r\n",
    "        lon.append(location.longitude)\r\n",
    "        locations.append(location)\r\n",
    "        ports.append(port)\r\n",
    "        print(location.longitude, location.latitude)\r\n",
    "    except:\r\n",
    "        # i put in an except loop because sometimes the api doesnt recognise a city name\r\n",
    "        # if it return no value then it prints the name of the city it couldnt find\r\n",
    "        # im having some trouble at the moment with cases its getting confused somewhere along the way\r\n",
    "        # It doesnt like \"NewYork\" it likes \"New York\" it has to have a space - somewhere my code is removing the space\r\n",
    "        if location == None:\r\n",
    "            # by printing \"port\" you can see which cities it cant find\r\n",
    "            print(port)\r\n",
    "# this bit takes those lists from above and puts them in a dictionary\r\n",
    "di = {\"port\":ports, \"locations\":locations, \"latitude\":lat, \"longitude\":lon}\r\n",
    "# this converts the dictionary into a data frame\r\n",
    "port_df = pd.DataFrame(di)"
   ],
   "outputs": [],
   "metadata": {}
  },
  {
   "cell_type": "markdown",
   "source": [
    "# 4. Graphs"
   ],
   "metadata": {}
  },
  {
   "cell_type": "markdown",
   "source": [
    "Shows the amount of passengers from each country"
   ],
   "metadata": {}
  },
  {
   "cell_type": "code",
   "execution_count": null,
   "source": [
    "a = df.groupby(\"Country\").size()\r\n",
    "a.sort_values(ascending=False)\r\n",
    "a.plot(kind=\"bar\")\r\n",
    "plt.plot(a, \"x-\")\r\n",
    "plt.title(\"Airtravel Pasengers\", fontsize=18)\r\n",
    "plt.xlabel('Year', fontsize=26)\r\n",
    "plt.ylabel('Passengers', fontsize=26)\r\n",
    "plt.grid(False)\r\n",
    "plt.show()"
   ],
   "outputs": [],
   "metadata": {}
  },
  {
   "cell_type": "markdown",
   "source": [
    "Plots the Passengers\r\n",
    "\r\n",
    "Shows the increase in passengers and then decrease when COVID hit"
   ],
   "metadata": {}
  },
  {
   "cell_type": "code",
   "execution_count": null,
   "source": [
    "income = df[[\"Year\",\"Passengers_Out\"]].groupby(\"Year\").sum()\r\n",
    "\r\n",
    "plt.rcdefaults()\r\n",
    "plt.plot(income, \"x-\")\r\n",
    "plt.title(\"Airtravel Pasengers\", fontsize=18)\r\n",
    "plt.xlabel('Year', fontsize=26)\r\n",
    "plt.ylabel('Passengers', fontsize=26)\r\n",
    "plt.grid(True)\r\n",
    "plt.show()"
   ],
   "outputs": [],
   "metadata": {}
  },
  {
   "cell_type": "markdown",
   "source": [
    "# 5. Maps"
   ],
   "metadata": {}
  },
  {
   "cell_type": "markdown",
   "source": [
    "loads the world map and cites dataset"
   ],
   "metadata": {}
  },
  {
   "cell_type": "code",
   "execution_count": 10,
   "source": [
    " world = gpd.read_file(gpd.datasets.get_path('naturalearth_lowres'))\r\n",
    " cities = gpd.read_file(gpd.datasets.get_path('naturalearth_cities'))"
   ],
   "outputs": [],
   "metadata": {}
  },
  {
   "cell_type": "markdown",
   "source": [
    "Shows the world map\r\n",
    "no data"
   ],
   "metadata": {}
  },
  {
   "cell_type": "code",
   "execution_count": null,
   "source": [
    "world.plot()"
   ],
   "outputs": [],
   "metadata": {}
  },
  {
   "cell_type": "markdown",
   "source": [
    "This code maps the long and lat data onto a world map"
   ],
   "metadata": {}
  },
  {
   "cell_type": "code",
   "execution_count": null,
   "source": [
    "# the data frame with the long and lat coordinates\r\n",
    "data = long_lat\r\n",
    "# tells python the coordinate system\r\n",
    "crs={'init':'epsg:4326'}\r\n",
    "# defines the geometry\r\n",
    "geometry = [Point(xy) for xy in zip(data[\"longitude\"], data[\"latitude\"])]\r\n",
    "# loads data from geopandas\r\n",
    "geodata = gpd.GeoDataFrame(data,crs=crs, geometry=geometry)\r\n",
    "\r\n",
    "# Loads shape file of the world from geopandas \r\n",
    "\r\n",
    "world = geopandas.read_file(geopandas.datasets.get_path('naturalearth_lowres'))\r\n",
    "\r\n",
    "# Formatting stuff is below like colour, text etc\r\n",
    "fig, ax = plt.subplots(figsize=(15,7))\r\n",
    "\r\n",
    "world.plot(ax=ax, facecolor='Grey', edgecolor='k',alpha=1,linewidth=0.1,cmap=\"Blues\")\r\n",
    "\r\n",
    "#cmaps is the colour map - can check matplotlib for all the colour maps \r\n",
    "\r\n",
    "geodata.plot(ax=ax, color='red', markersize=5);\r\n",
    "fig.suptitle('Airports', fontsize=12)\r\n",
    "ax.set_xlabel('Longitude', fontsize=10)\r\n",
    "ax.set_ylabel('Latitude', fontsize='medium')"
   ],
   "outputs": [],
   "metadata": {}
  }
 ],
 "metadata": {
  "kernelspec": {
   "name": "python3",
   "display_name": "Python 3.8.8 64-bit ('base': conda)"
  },
  "language_info": {
   "codemirror_mode": {
    "name": "ipython",
    "version": 3
   },
   "file_extension": ".py",
   "mimetype": "text/x-python",
   "name": "python",
   "nbconvert_exporter": "python",
   "pygments_lexer": "ipython3",
   "version": "3.8.8"
  },
  "interpreter": {
   "hash": "1c7f834a8519830c4fba855057924470a7054789cccd5efc87bcc23af612ae66"
  }
 },
 "nbformat": 4,
 "nbformat_minor": 1
}